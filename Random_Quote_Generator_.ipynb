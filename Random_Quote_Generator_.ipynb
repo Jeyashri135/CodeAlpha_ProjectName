{
  "nbformat": 4,
  "nbformat_minor": 0,
  "metadata": {
    "colab": {
      "provenance": []
    },
    "kernelspec": {
      "name": "python3",
      "display_name": "Python 3"
    },
    "language_info": {
      "name": "python"
    },
    "widgets": {
      "application/vnd.jupyter.widget-state+json": {
        "0529c19012ac47d3a4eb174bbe4efdd2": {
          "model_module": "@jupyter-widgets/controls",
          "model_name": "ButtonModel",
          "model_module_version": "1.5.0",
          "state": {
            "_dom_classes": [],
            "_model_module": "@jupyter-widgets/controls",
            "_model_module_version": "1.5.0",
            "_model_name": "ButtonModel",
            "_view_count": null,
            "_view_module": "@jupyter-widgets/controls",
            "_view_module_version": "1.5.0",
            "_view_name": "ButtonView",
            "button_style": "success",
            "description": "New Quote",
            "disabled": false,
            "icon": "",
            "layout": "IPY_MODEL_6c3727fd81d64e63a9998e3551000d69",
            "style": "IPY_MODEL_27d7d36c13a049a7af9f229ac62714c5",
            "tooltip": ""
          }
        },
        "6c3727fd81d64e63a9998e3551000d69": {
          "model_module": "@jupyter-widgets/base",
          "model_name": "LayoutModel",
          "model_module_version": "1.2.0",
          "state": {
            "_model_module": "@jupyter-widgets/base",
            "_model_module_version": "1.2.0",
            "_model_name": "LayoutModel",
            "_view_count": null,
            "_view_module": "@jupyter-widgets/base",
            "_view_module_version": "1.2.0",
            "_view_name": "LayoutView",
            "align_content": null,
            "align_items": null,
            "align_self": null,
            "border": null,
            "bottom": null,
            "display": null,
            "flex": null,
            "flex_flow": null,
            "grid_area": null,
            "grid_auto_columns": null,
            "grid_auto_flow": null,
            "grid_auto_rows": null,
            "grid_column": null,
            "grid_gap": null,
            "grid_row": null,
            "grid_template_areas": null,
            "grid_template_columns": null,
            "grid_template_rows": null,
            "height": null,
            "justify_content": null,
            "justify_items": null,
            "left": null,
            "margin": null,
            "max_height": null,
            "max_width": null,
            "min_height": null,
            "min_width": null,
            "object_fit": null,
            "object_position": null,
            "order": null,
            "overflow": null,
            "overflow_x": null,
            "overflow_y": null,
            "padding": null,
            "right": null,
            "top": null,
            "visibility": null,
            "width": null
          }
        },
        "27d7d36c13a049a7af9f229ac62714c5": {
          "model_module": "@jupyter-widgets/controls",
          "model_name": "ButtonStyleModel",
          "model_module_version": "1.5.0",
          "state": {
            "_model_module": "@jupyter-widgets/controls",
            "_model_module_version": "1.5.0",
            "_model_name": "ButtonStyleModel",
            "_view_count": null,
            "_view_module": "@jupyter-widgets/base",
            "_view_module_version": "1.2.0",
            "_view_name": "StyleView",
            "button_color": null,
            "font_weight": ""
          }
        },
        "44bd4fc2eb504f9796b5d872b104726f": {
          "model_module": "@jupyter-widgets/output",
          "model_name": "OutputModel",
          "model_module_version": "1.0.0",
          "state": {
            "_dom_classes": [],
            "_model_module": "@jupyter-widgets/output",
            "_model_module_version": "1.0.0",
            "_model_name": "OutputModel",
            "_view_count": null,
            "_view_module": "@jupyter-widgets/output",
            "_view_module_version": "1.0.0",
            "_view_name": "OutputView",
            "layout": "IPY_MODEL_add1a16ae86e49179ebe579dc9eea0f1",
            "msg_id": "",
            "outputs": [
              {
                "output_type": "stream",
                "name": "stdout",
                "text": [
                  "\"Happiness depends upon ourselves.\"\n",
                  "-- Aristotle\n"
                ]
              },
              {
                "output_type": "stream",
                "name": "stdout",
                "text": [
                  "\"In the middle of every difficulty lies opportunity.\"\n",
                  "-- Albert Einstein\n"
                ]
              },
              {
                "output_type": "stream",
                "name": "stdout",
                "text": [
                  "\"It does not matter how slowly you go as long as you do not stop.\"\n",
                  "-- Confucius\n"
                ]
              }
            ]
          }
        },
        "add1a16ae86e49179ebe579dc9eea0f1": {
          "model_module": "@jupyter-widgets/base",
          "model_name": "LayoutModel",
          "model_module_version": "1.2.0",
          "state": {
            "_model_module": "@jupyter-widgets/base",
            "_model_module_version": "1.2.0",
            "_model_name": "LayoutModel",
            "_view_count": null,
            "_view_module": "@jupyter-widgets/base",
            "_view_module_version": "1.2.0",
            "_view_name": "LayoutView",
            "align_content": null,
            "align_items": null,
            "align_self": null,
            "border": null,
            "bottom": null,
            "display": null,
            "flex": null,
            "flex_flow": null,
            "grid_area": null,
            "grid_auto_columns": null,
            "grid_auto_flow": null,
            "grid_auto_rows": null,
            "grid_column": null,
            "grid_gap": null,
            "grid_row": null,
            "grid_template_areas": null,
            "grid_template_columns": null,
            "grid_template_rows": null,
            "height": null,
            "justify_content": null,
            "justify_items": null,
            "left": null,
            "margin": null,
            "max_height": null,
            "max_width": null,
            "min_height": null,
            "min_width": null,
            "object_fit": null,
            "object_position": null,
            "order": null,
            "overflow": null,
            "overflow_x": null,
            "overflow_y": null,
            "padding": null,
            "right": null,
            "top": null,
            "visibility": null,
            "width": null
          }
        }
      }
    }
  },
  "cells": [
    {
      "cell_type": "code",
      "execution_count": null,
      "metadata": {
        "colab": {
          "base_uri": "https://localhost:8080/",
          "height": 153,
          "referenced_widgets": [
            "0529c19012ac47d3a4eb174bbe4efdd2",
            "6c3727fd81d64e63a9998e3551000d69",
            "27d7d36c13a049a7af9f229ac62714c5",
            "44bd4fc2eb504f9796b5d872b104726f",
            "add1a16ae86e49179ebe579dc9eea0f1"
          ]
        },
        "id": "lw9CDR50BdBo",
        "outputId": "ae8cc7da-b6b6-4c05-89ae-6254ecbc33ae"
      },
      "outputs": [
        {
          "output_type": "display_data",
          "data": {
            "text/plain": [
              "Button(button_style='success', description='New Quote', style=ButtonStyle())"
            ],
            "application/vnd.jupyter.widget-view+json": {
              "version_major": 2,
              "version_minor": 0,
              "model_id": "0529c19012ac47d3a4eb174bbe4efdd2"
            }
          },
          "metadata": {}
        },
        {
          "output_type": "display_data",
          "data": {
            "text/plain": [
              "Output()"
            ],
            "application/vnd.jupyter.widget-view+json": {
              "version_major": 2,
              "version_minor": 0,
              "model_id": "44bd4fc2eb504f9796b5d872b104726f"
            }
          },
          "metadata": {}
        }
      ],
      "source": [
        "# Install ipywidgets if not installed\n",
        "!pip install ipywidgets\n",
        "\n",
        "import random\n",
        "import ipywidgets as widgets\n",
        "from IPython.display import display, clear_output\n",
        "\n",
        "# ----------------------\n",
        "# Sample quotes\n",
        "# ----------------------\n",
        "quotes = [\n",
        "    {\"text\": \"Be yourself; everyone else is already taken.\", \"author\": \"Oscar Wilde\"},\n",
        "    {\"text\": \"In the middle of every difficulty lies opportunity.\", \"author\": \"Albert Einstein\"},\n",
        "    {\"text\": \"It does not matter how slowly you go as long as you do not stop.\", \"author\": \"Confucius\"},\n",
        "    {\"text\": \"Success is not final, failure is not fatal: It is the courage to continue that counts.\", \"author\": \"Winston Churchill\"},\n",
        "    {\"text\": \"Happiness depends upon ourselves.\", \"author\": \"Aristotle\"}\n",
        "]\n",
        "\n",
        "# ----------------------\n",
        "# Widgets\n",
        "# ----------------------\n",
        "quote_output = widgets.Output()\n",
        "new_quote_btn = widgets.Button(description=\"New Quote\", button_style='success')\n",
        "\n",
        "# ----------------------\n",
        "# Functions\n",
        "# ----------------------\n",
        "def show_random_quote(b=None):\n",
        "    clear_output(wait=True)\n",
        "    quote = random.choice(quotes)\n",
        "    with quote_output:\n",
        "        print(f'\"{quote[\"text\"]}\"')\n",
        "        print(f'-- {quote[\"author\"]}')\n",
        "    display(new_quote_btn, quote_output)\n",
        "\n",
        "# Link button\n",
        "new_quote_btn.on_click(show_random_quote)\n",
        "\n",
        "# Display initial quote\n",
        "show_random_quote()\n"
      ]
    }
  ]
}